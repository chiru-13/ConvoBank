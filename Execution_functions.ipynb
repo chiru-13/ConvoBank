{
 "cells": [
  {
   "cell_type": "code",
   "execution_count": 2,
   "metadata": {},
   "outputs": [],
   "source": [
    "import streamlit as st\n",
    "import json\n",
    "import torch\n",
    "from transformers import BertTokenizer, BertForSequenceClassification\n",
    "from langchain.schema import HumanMessage, SystemMessage, AIMessage\n",
    "from langchain.chat_models import ChatOpenAI\n",
    "import vosk\n",
    "import pyttsx3\n",
    "import sounddevice as sd\n",
    "import numpy as np\n",
    "import wave\n",
    "import re\n",
    "import uuid"
   ]
  },
  {
   "cell_type": "code",
   "execution_count": 3,
   "metadata": {},
   "outputs": [],
   "source": [
    "test_sentence=\"Transfer $65 to my niece for the dance lessons\""
   ]
  },
  {
   "cell_type": "code",
   "execution_count": 4,
   "metadata": {},
   "outputs": [
    {
     "data": {
      "text/plain": [
       "2"
      ]
     },
     "execution_count": 4,
     "metadata": {},
     "output_type": "execute_result"
    }
   ],
   "source": [
    "model = BertForSequenceClassification.from_pretrained(\"C:/Users/hp/Downloads/lm/Model_bert_ds_b1\")\n",
    "tokenizer = BertTokenizer.from_pretrained(\"C:/Users/hp/Downloads/lm/Model_bert_ds_b1\")\n",
    "\n",
    "inputs = tokenizer(test_sentence, return_tensors=\"pt\")\n",
    "with torch.no_grad():\n",
    "    outputs = model(**inputs)\n",
    "\n",
    "predicted_labels = torch.argmax(outputs.logits, dim=1)\n",
    "int(predicted_labels)"
   ]
  },
  {
   "cell_type": "code",
   "execution_count": 5,
   "metadata": {},
   "outputs": [],
   "source": [
    "json_file_path = \"C:/Users/hp/Downloads/lm/database.json\""
   ]
  },
  {
   "cell_type": "code",
   "execution_count": 6,
   "metadata": {},
   "outputs": [],
   "source": [
    "\n",
    "def get_account_details(account_number):\n",
    "    # Replace this with your logic to fetch account details from your data source\n",
    "    # For example, you can use a JSON file to store account details\n",
    "    with open(json_file_path, 'r') as f:\n",
    "        data = json.load(f)\n",
    "\n",
    "    for account in data['accounts']:\n",
    "        if account['acc_no'] == int(account_number):\n",
    "            return {\n",
    "                \"name\": account['name'],\n",
    "                \"acc_no\": account['acc_no'],\n",
    "                \"balance\": account['balance']\n",
    "            }\n",
    "\n",
    "    return None"
   ]
  },
  {
   "cell_type": "code",
   "execution_count": 12,
   "metadata": {},
   "outputs": [
    {
     "data": {
      "text/plain": [
       "525.0"
      ]
     },
     "execution_count": 12,
     "metadata": {},
     "output_type": "execute_result"
    }
   ],
   "source": [
    "get_account_details(\"832857\").get('balance', 0)"
   ]
  },
  {
   "cell_type": "code",
   "execution_count": 13,
   "metadata": {},
   "outputs": [
    {
     "data": {
      "text/plain": [
       "0"
      ]
     },
     "execution_count": 13,
     "metadata": {},
     "output_type": "execute_result"
    }
   ],
   "source": [
    "get_account_details(\"832857\").get('dues', 0)"
   ]
  },
  {
   "cell_type": "code",
   "execution_count": 14,
   "metadata": {},
   "outputs": [
    {
     "data": {
      "text/plain": [
       "{'name': 'Chiranjeevi', 'acc_no': 832857, 'balance': 525.0}"
      ]
     },
     "execution_count": 14,
     "metadata": {},
     "output_type": "execute_result"
    }
   ],
   "source": [
    "get_account_details(\"832857\")"
   ]
  },
  {
   "cell_type": "code",
   "execution_count": 10,
   "metadata": {},
   "outputs": [],
   "source": [
    "def update_account_balance(account_number, amount):\n",
    "    # Load account data from JSON file\n",
    "    with open(json_file_path, \"r\") as file:\n",
    "        account_data = json.load(file)\n",
    "\n",
    "    # Find the account in the data\n",
    "    for account in account_data[\"accounts\"]:\n",
    "        if account[\"acc_no\"] == account_number:\n",
    "            # Update the balance\n",
    "            account[\"balance\"] += amount\n",
    "            break\n",
    "\n",
    "    # Save the updated data back to the JSON file\n",
    "    with open(json_file_path, \"w\") as file:\n",
    "        json.dump(account_data, file, indent=2)\n",
    "\n",
    "def transfer_money(sender_acc_no, receiver_acc_no, amount):\n",
    "    data = read_data_from_json(json_file_path)\n",
    "    sender_account = None\n",
    "    receiver_account = None\n",
    "\n",
    "    # Find sender and receiver accounts\n",
    "    for account in data['accounts']:\n",
    "        if account['acc_no'] == int(sender_acc_no):\n",
    "            sender_account = account\n",
    "        elif account['acc_no'] == int(receiver_acc_no):\n",
    "            receiver_account = account\n",
    "\n",
    "    # Check if sender and receiver accounts exist\n",
    "    if sender_account is None or receiver_account is None:\n",
    "        return False, \"Sender or receiver account not found.\"\n",
    "\n",
    "    # Check if sender has sufficient balance\n",
    "    if sender_account['balance'] < amount:\n",
    "        return False, \"Insufficient balance.\"\n",
    "\n",
    "    # Deduct amount from sender's balance\n",
    "    sender_account['balance'] -= amount\n",
    "\n",
    "    # Add amount to receiver's balance\n",
    "    receiver_account['balance'] += amount\n",
    "\n",
    "    # Update JSON data\n",
    "    write_data_to_json(json_file_path, data)\n",
    "\n",
    "    return True, \"Transfer successful. You have transferred \" + str(amount) + \" to \" + str(receiver_acc_no) + \".\"\n",
    "\n",
    "def read_data_from_json(filename):\n",
    "    with open(filename, 'r') as f:\n",
    "        data = json.load(f)\n",
    "    return data\n",
    "\n",
    "def write_data_to_json(filename, data):\n",
    "    with open(filename, 'w') as f:\n",
    "        json.dump(data, f, indent=4)"
   ]
  },
  {
   "cell_type": "code",
   "execution_count": 15,
   "metadata": {},
   "outputs": [
    {
     "data": {
      "text/plain": [
       "(True, 'Transfer successful. You have transferred 25.0 to 832856.')"
      ]
     },
     "execution_count": 15,
     "metadata": {},
     "output_type": "execute_result"
    }
   ],
   "source": [
    "transfer_money(\"832857\",\"832856\", 25.0)"
   ]
  },
  {
   "cell_type": "code",
   "execution_count": null,
   "metadata": {},
   "outputs": [],
   "source": []
  }
 ],
 "metadata": {
  "kernelspec": {
   "display_name": "Python 3",
   "language": "python",
   "name": "python3"
  },
  "language_info": {
   "codemirror_mode": {
    "name": "ipython",
    "version": 3
   },
   "file_extension": ".py",
   "mimetype": "text/x-python",
   "name": "python",
   "nbconvert_exporter": "python",
   "pygments_lexer": "ipython3",
   "version": "3.9.0"
  }
 },
 "nbformat": 4,
 "nbformat_minor": 2
}
